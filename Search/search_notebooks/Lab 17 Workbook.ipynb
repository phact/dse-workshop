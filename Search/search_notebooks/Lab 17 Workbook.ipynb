{
 "cells": [
  {
   "cell_type": "markdown",
   "metadata": {},
   "source": [
    "# Exercise 1: Trim down the index size on rank, clicks and metadata, by removing unnecessary TextField."
   ]
  },
  {
   "cell_type": "markdown",
   "metadata": {},
   "source": [
    "### Download the Solr schema for rank, clicks and metadata.\n",
    "### Which fields can be converted to strings?\n",
    "### Modify the schema of each core, and reload the core.\n",
    "### Reindex each core.\n",
    "### How big is the resulting index?\n",
    "### How long did the reindex take?"
   ]
  },
  {
   "cell_type": "markdown",
   "metadata": {},
   "source": [
    "# Exercise 2: Trim down the index size on rank, clicks and metadata, by avoiding index altogether."
   ]
  },
  {
   "cell_type": "markdown",
   "metadata": {},
   "source": [
    "### Download the Solr schema for rank, clicks and metadata.\n",
    "### Which fields can we avoid indexing all together?\n",
    "### Modify the schema of each core, and reload the core.\n",
    "### Reindex each core.\n",
    "### How big is the resulting index?\n",
    "### How long did the reindex take?\n"
   ]
  },
  {
   "cell_type": "markdown",
   "metadata": {},
   "source": [
    "# Exercise 3: Trim down the index size on rank, clicks and metadata, by disabling norm, term position and vector."
   ]
  },
  {
   "cell_type": "markdown",
   "metadata": {},
   "source": [
    "### Resource: ```http://<node0_public_ip>:8983/solr/amazon.metadata/admin/luke```"
   ]
  },
  {
   "cell_type": "markdown",
   "metadata": {},
   "source": [
    "### Download the Solr schema for rank, clicks and metadata.\n",
    "### Of the remaining text fields which require highlighting?\n",
    "### Disable positions and vectors on all text fields that don't require highlighting.\n",
    "### What is the benefit of disabling norms?\n",
    "### Of the remaining text fields which require norms? Disable norms for all fields that don't require it.\n",
    "### Reindex each core."
   ]
  },
  {
   "cell_type": "code",
   "execution_count": null,
   "metadata": {
    "collapsed": true
   },
   "outputs": [],
   "source": []
  }
 ],
 "metadata": {
  "kernelspec": {
   "display_name": "CQL",
   "language": "CQL",
   "name": "cql"
  },
  "language_info": {
   "codemirror_mode": "sql",
   "file_extension": ".cql",
   "mimetype": "text/x-cassandra",
   "name": "CQL"
  }
 },
 "nbformat": 4,
 "nbformat_minor": 0
}
