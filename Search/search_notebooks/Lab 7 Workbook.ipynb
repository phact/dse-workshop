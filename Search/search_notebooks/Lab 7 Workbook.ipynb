{
 "cells": [
  {
   "cell_type": "markdown",
   "metadata": {},
   "source": [
    "# Exercise 1: Find customers events within the US, join to products. (10 minutes)"
   ]
  },
  {
   "cell_type": "markdown",
   "metadata": {},
   "source": [
    "### Resources:\n",
    "* https://docs.datastax.com/en/datastax_enterprise/4.8/datastax_enterprise/srch/srchQueryJoin.html"
   ]
  },
  {
   "cell_type": "markdown",
   "metadata": {},
   "source": [
    "### Answer:"
   ]
  },
  {
   "cell_type": "code",
   "execution_count": null,
   "metadata": {
    "collapsed": false
   },
   "outputs": [],
   "source": [
    "SELECT * FROM amazon.metadata WHERE solr_query='{\"q\":\"{!join fromIndex=amazon.clicks}country:US\"}' limit 100;"
   ]
  },
  {
   "cell_type": "markdown",
   "metadata": {},
   "source": [
    "# Exercise 2: Find customers events within a 5km radius of \"37.7484,-122.4156\", join to products, facet categories. (15 minutes)\n",
    "### Note: As of May 2016, this exercise is currently broken on DSE5 EAP (up to EAP7) due to [DSP-9623](https://datastax.jira.com/browse/DSP-9623).\n"
   ]
  },
  {
   "cell_type": "markdown",
   "metadata": {},
   "source": [
    "### Answer:"
   ]
  },
  {
   "cell_type": "code",
   "execution_count": null,
   "metadata": {
    "collapsed": false
   },
   "outputs": [],
   "source": [
    "SELECT * FROM amazon.metadata WHERE solr_query='{\"q\":\"*:*\", \"fq\":\"{!join fromIndex=amazon.clicks}{!geofilt pt=\\\"37.7484,-122.4156\\\" sfield=location d=5}\", \"facet\":{\"field\":\"categories\"}}';"
   ]
  }
 ],
 "metadata": {
  "kernelspec": {
   "display_name": "CQL",
   "language": "CQL",
   "name": "cql"
  },
  "language_info": {
   "codemirror_mode": "sql",
   "file_extension": ".cql",
   "mimetype": "text/x-cassandra",
   "name": "CQL"
  }
 },
 "nbformat": 4,
 "nbformat_minor": 0
}
