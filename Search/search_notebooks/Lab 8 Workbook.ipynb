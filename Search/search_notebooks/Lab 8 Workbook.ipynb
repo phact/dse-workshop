{
 "cells": [
  {
   "cell_type": "markdown",
   "metadata": {},
   "source": [
    "# Exercise 1: Enable search for rank. (5 minutes)"
   ]
  },
  {
   "cell_type": "markdown",
   "metadata": {},
   "source": [
    "### Answer:"
   ]
  },
  {
   "cell_type": "raw",
   "metadata": {
    "collapsed": false
   },
   "source": [
    "# dsetool create_core amazon.rank generateResources=true reindex=true distributed=true deleteAll=true "
   ]
  },
  {
   "cell_type": "markdown",
   "metadata": {},
   "source": [
    "# Exercise 2: Find the most popular item in category books within a 5km radius of \"37.7484,-122.4156\". (15 minutes)\n",
    "### Note: As of May 2016, this exercise is currently broken on DSE5 EAP (up to EAP7) due to [DSP-9623](https://datastax.jira.com/browse/DSP-9623)."
   ]
  },
  {
   "cell_type": "markdown",
   "metadata": {},
   "source": [
    "### Answer:"
   ]
  },
  {
   "cell_type": "code",
   "execution_count": null,
   "metadata": {
    "collapsed": false
   },
   "outputs": [],
   "source": [
    "SELECT * FROM amazon.rank WHERE solr_query='{\"q\":\"{!join fromIndex=amazon.metadata}categories:books AND _query_:{!join fromIndex=amazon.clicks}{!geofilt pt=\\\"37.7484,-122.4156\\\" sfield=location d=5}\"}';"
   ]
  }
 ],
 "metadata": {
  "kernelspec": {
   "display_name": "CQL",
   "language": "CQL",
   "name": "cql"
  },
  "language_info": {
   "codemirror_mode": "sql",
   "file_extension": ".cql",
   "mimetype": "text/x-cassandra",
   "name": "CQL"
  }
 },
 "nbformat": 4,
 "nbformat_minor": 0
}
