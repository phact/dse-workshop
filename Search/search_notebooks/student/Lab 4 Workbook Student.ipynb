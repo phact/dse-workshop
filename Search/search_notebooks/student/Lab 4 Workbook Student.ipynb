{
  "metadata": {
    "language_info": {
      "name": "CQL",
      "mimetype": "text/x-cassandra",
      "file_extension": ".cql",
      "codemirror_mode": "sql"
    },
    "kernelspec": {
      "name": "cql",
      "language": "CQL",
      "display_name": "CQL"
    }
  },
  "nbformat": 4,
  "nbformat_minor": 0,
  "cells": [
    {
      "source": [
        "# Exercise 1: Using the web interface search for ”girls\" in the title, filtered by category books. (5 minutes)"
      ],
      "metadata": {},
      "cell_type": "markdown"
    },
    {
      "source": [
        "### Answer:"
      ],
      "metadata": {},
      "cell_type": "markdown"
    },
    {
      "source": [
        "Go to Solr Admin UI, drill down to amazon.metadata core, and run a query like the following:\n",
        "![lab4ex1](images/lab4ex1.png)"
      ],
      "metadata": {
        "collapsed": false
      },
      "cell_type": "markdown"
    },
    {
      "source": [
        "# Exercise 2: Using the web interface search for ”girls\" in the title, sort by ASIN (5 minutes)\n"
      ],
      "metadata": {},
      "cell_type": "markdown"
    },
    {
      "source": [
        "### Answer:"
      ],
      "metadata": {},
      "cell_type": "markdown"
    },
    {
      "source": [
        "Go to Solr Admin UI, drill down to amazon.metadata core, and run a query like the following:\n",
        "![lab4ex2](images/lab4ex2.png)"
      ],
      "metadata": {},
      "cell_type": "markdown"
    },
    {
      "source": [
        "# Exercise 3: Using the web interface search for items with ”girls\" in the title. Highlight found phrases. (5 minutes)"
      ],
      "metadata": {},
      "cell_type": "markdown"
    },
    {
      "source": [
        "### Answer:"
      ],
      "metadata": {},
      "cell_type": "markdown"
    },
    {
      "source": [
        "Go to Solr Admin UI, drill down to amazon.metadata core, and run a query like the following:\n",
        "![lab4ex3](images/lab4ex3.png)"
      ],
      "metadata": {
        "collapsed": false
      },
      "cell_type": "markdown"
    }
  ]
}
