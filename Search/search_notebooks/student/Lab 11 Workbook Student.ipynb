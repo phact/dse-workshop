{
  "metadata": {
    "language_info": {
      "name": "CQL",
      "mimetype": "text/x-cassandra",
      "file_extension": ".cql",
      "codemirror_mode": "sql"
    },
    "kernelspec": {
      "name": "cql",
      "language": "CQL",
      "display_name": "CQL"
    }
  },
  "nbformat": 4,
  "nbformat_minor": 0,
  "cells": [
    {
      "source": [
        "# Exercise 1: G1GC in configuration files"
      ],
      "metadata": {},
      "cell_type": "markdown"
    },
    {
      "source": [
        "### Starting from DSE-4.8, G1GC is enabled by default if JVM 1.8 or higher is used. Take a look at jvm.options (or cassandra-env.sh in DSE-4.8) and copy/paste the G1GC related settings."
      ],
      "metadata": {},
      "cell_type": "markdown"
    },
    {
      "source": [
        "### Answer:"
      ],
      "metadata": {},
      "cell_type": "markdown"
    },
    {
      "source": [
        "```\n",
        "### G1 Settings                                                                                                                   \n",
        "# Use the Hotspot garbage-first collector.                                                                             -XX:+UseG1GC                                                                                                                       \n",
        "# Have the JVM do less remembered set work during STW, instead                                                         # preferring concurrent GC. Reduces p99.9 latency.                                                                     -XX:G1RSetUpdatingPauseTimePercent=5                                                                                               \n",
        "# Main G1GC tunable: lowering the pause target will lower throughput and vise versa.                                   # 200ms is the JVM default and lowest viable setting                                                                   # 1000ms increases throughput. Keep it smaller than the timeouts in cassandra.yaml.                                   -XX:MaxGCPauseMillis=500                                                                                                            \n",
        "## Optional G1 Settings                                                                                               # Save CPU time on large (>= 16GB) heaps by delaying region scanning                                                   # until the heap is 70% full. The default in Hotspot 8u40 is 40%.                                                     #-XX:InitiatingHeapOccupancyPercent=70                                                                                             \n",
        "# For systems with > 8 cores, the default ParallelGCThreads is 5/8 the number of logical cores.                       # Otherwise equal to the number of cores when 8 or less.                                                               # Machines with > 10 cores should try setting these to <= full cores.                                                 #-XX:ParallelGCThreads=16                                                                                             # By default, ConcGCThreads is 1/4 of ParallelGCThreads.                                                               # Setting both to the same value can reduce STW durations.                                                             #-XX:ConcGCThreads=16   \n",
        "```"
      ],
      "metadata": {
        "collapsed": false
      },
      "cell_type": "markdown"
    }
  ]
}
