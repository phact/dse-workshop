{
  "metadata": {
    "language_info": {
      "name": "CQL",
      "mimetype": "text/x-cassandra",
      "file_extension": ".cql",
      "codemirror_mode": "sql"
    },
    "kernelspec": {
      "name": "cql",
      "language": "CQL",
      "display_name": "CQL"
    }
  },
  "nbformat": 4,
  "nbformat_minor": 0,
  "cells": [
    {
      "source": [
        "# Exercise 1: Trim down the index size on rank, clicks and metadata."
      ],
      "metadata": {},
      "cell_type": "markdown"
    },
    {
      "source": [
        "### Download the Solr schema for rank, clicks and metadata.\n",
        "### Which fields can be converted to strings?\n",
        "### Modify the schema of each core, and reload the core.\n",
        "### Reindex each core.\n",
        "### How big is the resulting index?\n",
        "### How long did the reindex take?"
      ],
      "metadata": {},
      "cell_type": "markdown"
    }
  ]
}
