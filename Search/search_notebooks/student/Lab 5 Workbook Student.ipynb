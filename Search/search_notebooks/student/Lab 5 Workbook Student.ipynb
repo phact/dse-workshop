{
  "metadata": {
    "language_info": {
      "name": "CQL",
      "mimetype": "text/x-cassandra",
      "file_extension": ".cql",
      "codemirror_mode": "sql"
    },
    "kernelspec": {
      "name": "cql",
      "language": "CQL",
      "display_name": "CQL"
    }
  },
  "nbformat": 4,
  "nbformat_minor": 0,
  "cells": [
    {
      "source": [
        "# Exercise 1: What's the difference between the whitespace and standard tokenizers? Which is more desirable? (5 minutes)"
      ],
      "metadata": {},
      "cell_type": "markdown"
    },
    {
      "source": [
        "### Answer:"
      ],
      "metadata": {},
      "cell_type": "markdown"
    },
    {
      "source": [
        "They differ in how they split the analyzed text into tokens.\n",
        "\n",
        "The <b>StandardTokenizer</b> does this based on the following (taken from lucene javadoc):\n",
        "\n",
        "* Splits words at punctuation characters, removing punctuation. However, a dot that's not followed by whitespace is considered part of a token.\n",
        "* Splits words at hyphens, unless there's a number in the token, in which case the whole token is interpreted as a product number and is not split.\n",
        "* Recognizes email addresses and internet hostnames as one token.\n",
        "\n",
        "The <b>WhitespaceTokenizer</b> does this based on whitespace characters:\n",
        "\n",
        "A *WhitespaceTokenizer* is a tokenizer that divides text at whitespace. Adjacent sequences of non-Whitespace characters form tokens.\n",
        "\n",
        "You should pick the tokenizer that best fits your application. In any case you have to use the same analyzer/tokenizers for indexing and searching!"
      ],
      "metadata": {
        "collapsed": false
      },
      "cell_type": "markdown"
    },
    {
      "source": [
        "# Exercise 2: Download the Solr schema for amazon.metadata using dsetool (2 minutes)\n"
      ],
      "metadata": {},
      "cell_type": "markdown"
    },
    {
      "source": [
        "### Answer:"
      ],
      "metadata": {},
      "cell_type": "markdown"
    },
    {
      "source": [
        "# Exercise 3: Enable stemming using the \"PorterStemFilterFactory\" for text in amazon.metadata (5 minutes)"
      ],
      "metadata": {},
      "cell_type": "markdown"
    },
    {
      "source": [
        "### Resources:\n",
        "* https://wiki.apache.org/solr/LanguageAnalysis#Stemming"
      ],
      "metadata": {},
      "cell_type": "markdown"
    },
    {
      "source": [
        "### Answer:"
      ],
      "metadata": {},
      "cell_type": "markdown"
    },
    {
      "source": [
        "1. Edit metadata_schema.xml under TextField and add a filter called PorterStemFilterFactory.\n",
        "2. Re-upload the schema to the core and reindex.\n",
        "3. Run queries to see the difference made by stemming."
      ],
      "metadata": {
        "collapsed": false
      },
      "cell_type": "markdown"
    }
  ]
}
