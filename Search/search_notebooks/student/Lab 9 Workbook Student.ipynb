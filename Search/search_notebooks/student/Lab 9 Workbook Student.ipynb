{
  "metadata": {
    "language_info": {
      "name": "CQL",
      "mimetype": "text/x-cassandra",
      "file_extension": ".cql",
      "codemirror_mode": "sql"
    },
    "kernelspec": {
      "name": "cql",
      "language": "CQL",
      "display_name": "CQL"
    }
  },
  "nbformat": 4,
  "nbformat_minor": 0,
  "cells": [
    {
      "source": [
        "# Exercise 1: Enable spellcheck/type ahead for titles. (20 minutes)"
      ],
      "metadata": {},
      "cell_type": "markdown"
    },
    {
      "source": [
        "### Answer:"
      ],
      "metadata": {},
      "cell_type": "markdown"
    },
    {
      "source": [
        "# Exercise 2: Enable spellcheck/type ahead for categories. (20 minutes)\n"
      ],
      "metadata": {},
      "cell_type": "markdown"
    },
    {
      "source": [
        "### Answer:"
      ],
      "metadata": {},
      "cell_type": "markdown"
    },
    {
      "source": [
        "# Exercise 3: Solr query on User Defined Type (UDT) (10 minutes)"
      ],
      "metadata": {},
      "cell_type": "markdown"
    },
    {
      "source": [
        "### Run the following CQL commands to add a UDT column and insert some data:\n",
        "\n",
        "```\n",
        "CREATE TYPE amazon.category_rank (\n",
        "    category text,\n",
        "    rank int\n",
        ");\n",
        "\n",
        "ALTER TABLE amazon.metadata ADD ranks set<frozen<category_rank>>;\n",
        "\n",
        "UPDATE amazon.metadata SET ranks = ranks + { { category:'Movies', rank:1 } } WHERE asin='0007321198';\n",
        "```\n",
        "\n",
        "### Write a CQL solr_query to find the document where ranks.category = 'Movies' and ranks.rank = 1."
      ],
      "metadata": {},
      "cell_type": "markdown"
    },
    {
      "source": [
        "### Answer:"
      ],
      "metadata": {},
      "cell_type": "markdown"
    },
    {
      "source": [
        "Many ways to write this query, for example:"
      ],
      "metadata": {},
      "cell_type": "markdown"
    },
    {
      "source": [
        "### What's the reason if you see the following error:\n",
        "```\n",
        "ServerError: <ErrorMessage code=0000 [Server error] message=\"undefined field ranks.rank\">\n",
        "```"
      ],
      "metadata": {},
      "cell_type": "markdown"
    },
    {
      "source": [
        "### Answer:"
      ],
      "metadata": {},
      "cell_type": "markdown"
    },
    {
      "source": [
        "Because CQL table schema was changed by \"ALTER TABLE\", a reindex is needed to get the solr core updated."
      ],
      "metadata": {},
      "cell_type": "markdown"
    },
    {
      "source": [
        "### Take a look at the new solr core schema for amazon.metadata, and see how UDT/tuple maps to Solr TupleField. Now rerun the previous query should succeed."
      ],
      "metadata": {},
      "cell_type": "markdown"
    },
    {
      "source": [
        "### Any other way of writing this solr query on UDT?"
      ],
      "metadata": {},
      "cell_type": "markdown"
    },
    {
      "source": [
        "### Answer:"
      ],
      "metadata": {},
      "cell_type": "markdown"
    },
    {
      "source": [
        "### Why the following query doesn't work?"
      ],
      "metadata": {},
      "cell_type": "markdown"
    },
    {
      "source": [
        "### Answer:"
      ],
      "metadata": {},
      "cell_type": "markdown"
    },
    {
      "source": [
        "According to [UDT Query Examples](http://docs.datastax.com/en/datastax_enterprise/4.8/datastax_enterprise/srch/srchTupleUDTqueries.html), You can query across UDTs or within a UDT:\n",
        "\n",
        "-Across UDTs syntax: ({!tuple}cond1 AND {!tuple}condN...) *notice the parenthesis*\n",
        "\n",
        "-Within a UDT: {!tuple}cond1 AND condN...\n",
        "\n",
        "So the correct syntax should be either:\n",
        "```\n",
        "select * from amazon.metadata where solr_query = '{!tuple}ranks.category:\"Movies\" AND ranks.rank:1';\n",
        "```\n",
        "or\n",
        "```\n",
        "select * from amazon.metadata where solr_query = '({!tuple}ranks.category:\"Movies\" AND {!tuple}ranks.rank:1)';\n",
        "```"
      ],
      "metadata": {},
      "cell_type": "markdown"
    }
  ]
}
