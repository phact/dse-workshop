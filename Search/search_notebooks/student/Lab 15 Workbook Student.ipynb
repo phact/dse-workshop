{
  "metadata": {
    "language_info": {
      "name": "CQL",
      "mimetype": "text/x-cassandra",
      "file_extension": ".cql",
      "codemirror_mode": "sql"
    },
    "kernelspec": {
      "name": "cql",
      "language": "CQL",
      "display_name": "CQL"
    }
  },
  "nbformat": 4,
  "nbformat_minor": 0,
  "cells": [
    {
      "source": [
        "# Question 1: What is the maximum recommended index size?"
      ],
      "metadata": {},
      "cell_type": "markdown"
    },
    {
      "source": [
        "### Answer:"
      ],
      "metadata": {},
      "cell_type": "markdown"
    },
    {
      "source": [
        "Should be determined by how much buffer cache can be used to cache the Lucene index files."
      ],
      "metadata": {},
      "cell_type": "markdown"
    },
    {
      "source": [
        "# Question 2: Below the maximum how big should I let the index on an individual machine grow?"
      ],
      "metadata": {},
      "cell_type": "markdown"
    },
    {
      "source": [
        "### Answer:"
      ],
      "metadata": {},
      "cell_type": "markdown"
    },
    {
      "source": [],
      "metadata": {},
      "cell_type": "markdown"
    },
    {
      "source": [
        "# Question 3: What are strategies for allowing an index to grow beyond the recommended size for the machine?"
      ],
      "metadata": {},
      "cell_type": "markdown"
    },
    {
      "source": [
        "### Answer:"
      ],
      "metadata": {},
      "cell_type": "markdown"
    },
    {
      "source": [
        "Use SSD"
      ],
      "metadata": {},
      "cell_type": "markdown"
    },
    {
      "source": [
        "# Question 4: What is the absolute maximum index size?"
      ],
      "metadata": {
        "collapsed": true
      },
      "cell_type": "markdown"
    },
    {
      "source": [
        "### Answer:"
      ],
      "metadata": {},
      "cell_type": "markdown"
    },
    {
      "source": [
        "200GB. This means even if you have a 512GB RAM machine, you should not plan to have your index size to be bigger than 200GB. Scale out instead of scale up."
      ],
      "metadata": {},
      "cell_type": "markdown"
    }
  ]
}
