{
  "metadata": {
    "language_info": {
      "name": "CQL",
      "mimetype": "text/x-cassandra",
      "file_extension": ".cql",
      "codemirror_mode": "sql"
    },
    "kernelspec": {
      "name": "cql",
      "language": "CQL",
      "display_name": "CQL"
    }
  },
  "nbformat": 4,
  "nbformat_minor": 0,
  "cells": [
    {
      "source": [
        "# Exercise 0: Preparation (15 minutes)\n",
        "Each student should have received a notebook URL and a SSH private key in their email. Use this URL in your browser to bring up ```Lab 1 Workbook```. The IP address in the URL is the public IP address of the first node in your 3-node cluster (also called node0), and you should create a SSH terminal connection to node0 using ```root``` user and the private key. The SSH terminal and the browser notebook session should be everything you need for this bootcamp.\n",
        "\n",
        "### Note: Each student should setup github to track the changes in the notebook, to avoid losing any important updates.\n",
        "\n",
        "# Exercise 1: Installation DSE (30 minutes)\n",
        "\n",
        "Assuming you've got a cluster on AWS named \"Cluster 1\" with three nodes: node0, node1 and node2 (check /etc/hosts for all of their private and public IP addresses), node1 and node2 are both installed and configured already and running as DSE C\\* mode, now your mission, if you choose to accept it, is to install node0 from DSE debian repository, configure node0, bring up node0 to complete the 3-node cluster, and run the whole cluster in SearchAnalytics mode. You need to write down the apt-get command(s) used, list out what are the essential configuration files to edit after the deb packages are installed, and copy/paste the \"dsetool ring\" output to confirm that the cluster is indeed up and running as expected.\n",
        "\n",
        "Hints: Check the /etc/apt/sources.list.d/cassandra.list file on node1 or node2 for configuration on debian repository. You can also refer to the configuration files on node1 or node2 but keep in mind that they're currently running in DSE C\\* mode so you will need to switch that."
      ],
      "metadata": {},
      "cell_type": "markdown"
    },
    {
      "source": [
        "## Answer:"
      ],
      "metadata": {},
      "cell_type": "markdown"
    },
    {
      "source": [
        "## Copy/paste expected Output from ```dsetool ring```:"
      ],
      "metadata": {},
      "cell_type": "markdown"
    },
    {
      "source": [
        "# Exercise 2: Load data (5 minutes)\n",
        "Go to ```$HOME/solr_exercises/l1e2``` directory, run \"```python populate_simple.py metadata_10k.json geodata.csv```\", then enter cqlsh and explore the data a bit using \"```describe table```\" and \"```select ... limit 5```\" commands."
      ],
      "metadata": {},
      "cell_type": "markdown"
    },
    {
      "source": [
        "# Exercise 3: Design CQL queries without Solr indexes (10 minutes)\n",
        "* Fetch a record by primary key using CQL\n",
        "* Design a CQL query table schema for finding items by category\n",
        "* Design a CQL query table schema for finding items by category, by sub-category.\n",
        "* Design a CQL query table schema that allows you to find all books that are the superset of \"Noir\", and \"Zombies\"."
      ],
      "metadata": {},
      "cell_type": "markdown"
    },
    {
      "source": [
        "# End of Lab 1\n",
        "### Time to go back to the slides to review a little bit on what you've learned from DS310 at DataStax Academy."
      ],
      "metadata": {},
      "cell_type": "markdown"
    },
    {
      "source": [
        "## Remember to use File -> Close and Halt so this notebook no longer hogs resources"
      ],
      "metadata": {
        "collapsed": true
      },
      "cell_type": "markdown"
    }
  ]
}
