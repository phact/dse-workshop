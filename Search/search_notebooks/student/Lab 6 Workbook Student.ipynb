{
  "metadata": {
    "language_info": {
      "name": "CQL",
      "mimetype": "text/x-cassandra",
      "file_extension": ".cql",
      "codemirror_mode": "sql"
    },
    "kernelspec": {
      "name": "cql",
      "language": "CQL",
      "display_name": "CQL"
    }
  },
  "nbformat": 4,
  "nbformat_minor": 0,
  "cells": [
    {
      "source": [
        "# Exercise 1: Enable search for amazon.clicks (5 minutes)"
      ],
      "metadata": {},
      "cell_type": "markdown"
    },
    {
      "source": [
        "### Answer:"
      ],
      "metadata": {},
      "cell_type": "markdown"
    },
    {
      "source": [
        "# Exercise 2: Download the schema for amazon.clicks, modify the schema enabling geospatial search for the location field (15 minutes)\n"
      ],
      "metadata": {},
      "cell_type": "markdown"
    },
    {
      "source": [
        "### Answer:"
      ],
      "metadata": {},
      "cell_type": "markdown"
    },
    {
      "source": [
        "### Question: how to change the schema to use dynamicField?"
      ],
      "metadata": {},
      "cell_type": "markdown"
    },
    {
      "source": [
        "# Exercise 3: Find customers events within a 3km radius of \"37.7484,-122.4156\", sort by distance. (10 minutes)"
      ],
      "metadata": {},
      "cell_type": "markdown"
    },
    {
      "source": [
        "### Hints: See [DSP-5975](https://datastax.jira.com/browse/DSP-5975) on how to \"sort by distance\" properly. Also since the returned result set is huge, you will want to add \"LIMIT 11000\" to your query."
      ],
      "metadata": {},
      "cell_type": "markdown"
    },
    {
      "source": [
        "### Answer:"
      ],
      "metadata": {},
      "cell_type": "markdown"
    },
    {
      "source": [
        "# Challenge 4: It is really hard to scroll through 10K+ rows in the above output, however, you may have noticed a lot of the rows (thousands of them) are sharing the same coordinates. Can you facet the above output and find out exactly how many locations are reflected in the above output, and for each unique location, how many rows are associated with them? Once figuring out the answer to this challenge, try 4km radius and 5km radius and see how the result changes. (15 minutes)\n",
        "### Hint: modify the schema and leverage copyField."
      ],
      "metadata": {},
      "cell_type": "markdown"
    },
    {
      "source": [
        "### Answer:"
      ],
      "metadata": {},
      "cell_type": "markdown"
    },
    {
      "source": [
        "* Edit clicks_schema.xml and add a StrField called \"location_str\" like the following:\n",
        "\n",
        "```<field indexed=\"true\" multiValued=\"false\" name=\"location_str\" stored=\"false\" type=\"StrField\" docValues=\"true\"/>```\n",
        "\n",
        "* Add a copyField statement at the end of the schema.xml like the following:\n",
        "\n",
        "```<copyField source=\"location\" dest=\"location_str\"/>```\n",
        "\n",
        "* Upload the schema.xml and reindex."
      ],
      "metadata": {},
      "cell_type": "markdown"
    }
  ]
}
