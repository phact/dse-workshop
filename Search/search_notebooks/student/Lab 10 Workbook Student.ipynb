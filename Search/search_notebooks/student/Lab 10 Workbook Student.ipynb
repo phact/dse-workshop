{
  "metadata": {
    "language_info": {
      "name": "CQL",
      "mimetype": "text/x-cassandra",
      "file_extension": ".cql",
      "codemirror_mode": "sql"
    },
    "kernelspec": {
      "name": "cql",
      "language": "CQL",
      "display_name": "CQL"
    }
  },
  "nbformat": 4,
  "nbformat_minor": 0,
  "cells": [
    {
      "source": [
        "# Question 1: What are the two ways to make things fast?"
      ],
      "metadata": {},
      "cell_type": "markdown"
    },
    {
      "source": [
        "### Answer:"
      ],
      "metadata": {},
      "cell_type": "markdown"
    },
    {
      "source": [
        "Avoiding IO and avoiding JVM Garbage Collections. Go back to the slides for more details."
      ],
      "metadata": {
        "collapsed": false
      },
      "cell_type": "markdown"
    }
  ]
}
