{
  "metadata": {
    "language_info": {
      "name": "CQL",
      "mimetype": "text/x-cassandra",
      "file_extension": ".cql",
      "codemirror_mode": "sql"
    },
    "kernelspec": {
      "name": "cql",
      "language": "CQL",
      "display_name": "CQL"
    }
  },
  "nbformat": 4,
  "nbformat_minor": 0,
  "cells": [
    {
      "source": [
        "# Exercise 1: Enable Live Indexing"
      ],
      "metadata": {},
      "cell_type": "markdown"
    },
    {
      "source": [
        "1. Download the Solr config for amazon.metadata\n",
        "2. Set the ram buffer to 1GB\n",
        "3. Enable real time indexing\n",
        "4. Set the soft commit time to 100ms\n",
        "5. Set the number of indexing threads to the number of cores in dse.yaml\n",
        "6. Trigger a reindex on amazon.metadata, watch how long it takes"
      ],
      "metadata": {},
      "cell_type": "markdown"
    }
  ]
}
