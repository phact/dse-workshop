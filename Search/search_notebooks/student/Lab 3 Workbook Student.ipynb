{
  "metadata": {
    "language_info": {
      "name": "CQL",
      "mimetype": "text/x-cassandra",
      "file_extension": ".cql",
      "codemirror_mode": "sql"
    },
    "kernelspec": {
      "name": "cql",
      "language": "CQL",
      "display_name": "CQL"
    }
  },
  "nbformat": 4,
  "nbformat_minor": 0,
  "cells": [
    {
      "source": [
        "# Exercise 1: Using CQL search for items with ”girls\" in the title. (15 minutes)"
      ],
      "metadata": {},
      "cell_type": "markdown"
    },
    {
      "source": [
        "### Resources: (10 minutes reading)\n",
        "* [CQL solr query overview](https://docs.datastax.com/en/datastax_enterprise/4.8/datastax_enterprise/srch/srchCql.html)\n",
        "* [CQL solr_query JSON spec](https://docs.datastax.com/en/datastax_enterprise/4.8/datastax_enterprise/srch/srchJSON.html)\n",
        "* [Solr HTTP RESTful API](https://docs.datastax.com/en/datastax_enterprise/4.8/datastax_enterprise/srch/srchHttp.html)"
      ],
      "metadata": {},
      "cell_type": "markdown"
    },
    {
      "source": [
        "### Answer:"
      ],
      "metadata": {},
      "cell_type": "markdown"
    },
    {
      "source": [
        "### Follow-up questions:\n",
        "* Are there other ways to write this query? Give some exmple.\n",
        "\n",
        "    (HTTP RESTful API, CQL solr_query JSON format, CQL solr_query non-JSON format)"
      ],
      "metadata": {},
      "cell_type": "markdown"
    },
    {
      "source": [
        "### Answer:"
      ],
      "metadata": {},
      "cell_type": "markdown"
    },
    {
      "source": [
        "Another variant (RESTful API): [http://54.200.196.81:8983/solr/amazon.metadata/select?q=title%3Agirls&wt=json&indent=true](http://54.200.196.81:8983/solr/amazon.metadata/select?q=title%3Agirls&wt=json&indent=true)"
      ],
      "metadata": {},
      "cell_type": "markdown"
    },
    {
      "source": [
        "### Note: This is a good time to introduce Solr Admin UI [http://54.200.196.81:8983/solr](http://54.200.196.81:8983/solr)."
      ],
      "metadata": {},
      "cell_type": "markdown"
    },
    {
      "source": [
        "### Another follow-up question:\n",
        "* CQL solr_query is way more flexible than pure CQL query, but is there a catch? Compared to regular CQL query, what is the downside of using CQL solr_query from developer's perspective?"
      ],
      "metadata": {},
      "cell_type": "markdown"
    },
    {
      "source": [
        "### Answer:"
      ],
      "metadata": {},
      "cell_type": "markdown"
    },
    {
      "source": [
        "Since all query conditions will have to fit in solr_query, you can no longer effectively use prepared statement as you normally would be able to with pure CQL query."
      ],
      "metadata": {},
      "cell_type": "markdown"
    },
    {
      "source": [
        "# Question 2: What is the difference between main query (\"q\") and filter query (\"fq\") query parameter? Is there advantage of using one over the other? What is the best way to specify \"fq\" parameter if there are multiple AND conditions?"
      ],
      "metadata": {},
      "cell_type": "markdown"
    },
    {
      "source": [
        "### Answer:"
      ],
      "metadata": {},
      "cell_type": "markdown"
    },
    {
      "source": [
        "* \"fq\" won't influence document score while \"q\" will\n",
        "* however, \"fq\" could have a pretty major performance advantage over \"q\" for complex queries that could reuse part of the query conditions, because \"Each filter query is normally generated and cached independently in the filterCache, leading to improved request throughput for filters that are likely to be reused\"\n",
        "* You can use multiple \"fq\" clauses if there are multiple AND conditions, so each filter condition can be independently cached and reused"
      ],
      "metadata": {},
      "cell_type": "markdown"
    },
    {
      "source": [
        "# Exercise 3: Using CQL search for ”girls\" in the title. What categories contain results? (5 minutes)\n"
      ],
      "metadata": {},
      "cell_type": "markdown"
    },
    {
      "source": [
        "### Answer:"
      ],
      "metadata": {},
      "cell_type": "markdown"
    },
    {
      "source": [
        "# Exercise 4: Some of the categories in the facet output above contain zero result, how to eliminate those zero result categories in the output?"
      ],
      "metadata": {},
      "cell_type": "markdown"
    },
    {
      "source": [
        "### Answer:"
      ],
      "metadata": {},
      "cell_type": "markdown"
    },
    {
      "source": [
        "# Exercise 5: Using CQL search for ”girls\" in the title, filtered by category books. (5 minutes)"
      ],
      "metadata": {},
      "cell_type": "markdown"
    },
    {
      "source": [
        "### Answer:"
      ],
      "metadata": {},
      "cell_type": "markdown"
    },
    {
      "source": [
        "# Exercise 6: From the above answer, find out number of books in different price ranges, such as 0-2, 2-4, 4-6, 6-8, 8-10, 10-12 dollars (5 minutes)\n",
        "### Hint: Use range facet, https://cwiki.apache.org/confluence/display/solr/Faceting#Faceting-RangeFaceting"
      ],
      "metadata": {},
      "cell_type": "markdown"
    },
    {
      "source": [
        "### Answer:"
      ],
      "metadata": {},
      "cell_type": "markdown"
    },
    {
      "source": [
        "# Exercise 7: Using CQL search for ”girls\" in the title, sort by title. (10 minutes)"
      ],
      "metadata": {},
      "cell_type": "markdown"
    },
    {
      "source": [
        "### Answer:"
      ],
      "metadata": {},
      "cell_type": "markdown"
    },
    {
      "source": [
        "### Why using \"sort\":\"title asc\" doesn't work? How to fix it?\n",
        "### Answer: (Attempt #2)"
      ],
      "metadata": {},
      "cell_type": "markdown"
    },
    {
      "source": [
        "### Now sort in the reverse order.\n",
        "### Answer:"
      ],
      "metadata": {},
      "cell_type": "markdown"
    },
    {
      "source": [
        "### What happened? Why the 2nd output (reverse order) is not the exact opposite of the first output?"
      ],
      "metadata": {},
      "cell_type": "markdown"
    },
    {
      "source": [
        "### Answer:\n",
        "See [DSP-9604](https://datastax.jira.com/browse/DSP-9604)"
      ],
      "metadata": {},
      "cell_type": "markdown"
    },
    {
      "source": [
        "### Class Discussion: How to make the order in the sort output deterministic?"
      ],
      "metadata": {},
      "cell_type": "markdown"
    },
    {
      "source": [
        "### Answer:"
      ],
      "metadata": {},
      "cell_type": "markdown"
    },
    {
      "source": [
        "* Change the schema to make the title as a non-tokenized text field, instead of tokenized text field.\n",
        "* Change title to string field, which is not tokenized.\n",
        "* Sort on a field that is meaningful for sorting, such as ```asin```."
      ],
      "metadata": {},
      "cell_type": "markdown"
    },
    {
      "source": [
        "# Exercise 8: CQL solr_query is not fully functionally equivalent to Solr HTTP API (10 minutes)\n",
        "Read [DSP-4761](https://datastax.jira.com/browse/DSP-4761), and write down a list of Solr functionalties that are possible with Solr HTTP API but not yet in CQL solr_query (DSE-4.8 and DSE-5.0)."
      ],
      "metadata": {
        "collapsed": true
      },
      "cell_type": "markdown"
    },
    {
      "source": [
        "### Answer:"
      ],
      "metadata": {},
      "cell_type": "markdown"
    }
  ]
}
