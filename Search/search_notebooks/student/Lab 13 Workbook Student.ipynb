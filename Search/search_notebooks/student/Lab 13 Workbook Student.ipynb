{
  "metadata": {
    "language_info": {
      "name": "CQL",
      "mimetype": "text/x-cassandra",
      "file_extension": ".cql",
      "codemirror_mode": "sql"
    },
    "kernelspec": {
      "name": "cql",
      "language": "CQL",
      "display_name": "CQL"
    }
  },
  "nbformat": 4,
  "nbformat_minor": 0,
  "cells": [
    {
      "source": [
        "# Exercise 1: Increase indexing throughput"
      ],
      "metadata": {},
      "cell_type": "markdown"
    },
    {
      "source": [
        "1. Download the Solr config for amazon.metadata\n",
        "2. Increase ram buffer size to 1024MB\n",
        "3. Increase soft commit to 10 seconds\n",
        "4. Upload the modified Solr config, and reload the core with dsetool.\n",
        "5. Trigger a reindex on amazon.metadata, watch how long it takes"
      ],
      "metadata": {},
      "cell_type": "markdown"
    }
  ]
}
