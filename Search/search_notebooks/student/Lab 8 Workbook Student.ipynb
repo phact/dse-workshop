{
  "metadata": {
    "language_info": {
      "name": "CQL",
      "mimetype": "text/x-cassandra",
      "file_extension": ".cql",
      "codemirror_mode": "sql"
    },
    "kernelspec": {
      "name": "cql",
      "language": "CQL",
      "display_name": "CQL"
    }
  },
  "nbformat": 4,
  "nbformat_minor": 0,
  "cells": [
    {
      "source": [
        "# Exercise 1: Enable search for rank. (5 minutes)"
      ],
      "metadata": {},
      "cell_type": "markdown"
    },
    {
      "source": [
        "### Answer:"
      ],
      "metadata": {},
      "cell_type": "markdown"
    },
    {
      "source": [
        "# Exercise 2: Find the most popular item in category books within a 5km radius of \"37.7484,-122.4156\". (15 minutes)\n",
        "### Note: As of May 2016, this exercise is currently broken on DSE5 EAP (up to EAP7) due to [DSP-9623](https://datastax.jira.com/browse/DSP-9623)."
      ],
      "metadata": {},
      "cell_type": "markdown"
    },
    {
      "source": [
        "### Answer:"
      ],
      "metadata": {},
      "cell_type": "markdown"
    }
  ]
}
