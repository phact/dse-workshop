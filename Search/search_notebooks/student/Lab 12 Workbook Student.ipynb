{
  "metadata": {
    "language_info": {
      "name": "CQL",
      "mimetype": "text/x-cassandra",
      "file_extension": ".cql",
      "codemirror_mode": "sql"
    },
    "kernelspec": {
      "name": "cql",
      "language": "CQL",
      "display_name": "CQL"
    }
  },
  "nbformat": 4,
  "nbformat_minor": 0,
  "cells": [
    {
      "source": [
        "# Question 1: What's the hit rate for the caches? How big are they?"
      ],
      "metadata": {},
      "cell_type": "markdown"
    },
    {
      "source": [
        "### Answer:"
      ],
      "metadata": {},
      "cell_type": "markdown"
    },
    {
      "source": [
        "Go to Solr Admin UI, under \"Plugins/Stats\", select \"CACHE\". Then expand all different cache types to see their hit ratio, and the size of those caches."
      ],
      "metadata": {
        "collapsed": false
      },
      "cell_type": "markdown"
    },
    {
      "source": [
        "# Question 2: When is the query cache flushed?"
      ],
      "metadata": {
        "collapsed": true
      },
      "cell_type": "markdown"
    },
    {
      "source": [
        "### Answer:"
      ],
      "metadata": {},
      "cell_type": "markdown"
    },
    {
      "source": [
        "Whenever soft commit happens."
      ],
      "metadata": {},
      "cell_type": "markdown"
    },
    {
      "source": [
        "# Question 3: When is the filter cache flushed?"
      ],
      "metadata": {},
      "cell_type": "markdown"
    },
    {
      "source": [
        "### Answer:"
      ],
      "metadata": {},
      "cell_type": "markdown"
    },
    {
      "source": [
        "Never. Filter cache is per-segment cache so its content can stay much longer without being flushed."
      ],
      "metadata": {},
      "cell_type": "markdown"
    },
    {
      "source": [
        "# Question 4: When is the document cache useful?"
      ],
      "metadata": {},
      "cell_type": "markdown"
    },
    {
      "source": [
        "### Answer:"
      ],
      "metadata": {},
      "cell_type": "markdown"
    },
    {
      "source": [
        "Never."
      ],
      "metadata": {},
      "cell_type": "markdown"
    },
    {
      "source": [
        "# Exercise 5: Download the Solr config for every core, disable all caches except the filter cache (20 minutes)"
      ],
      "metadata": {},
      "cell_type": "markdown"
    }
  ]
}
