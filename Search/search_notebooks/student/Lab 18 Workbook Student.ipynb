{
  "metadata": {
    "language_info": {
      "name": "CQL",
      "mimetype": "text/x-cassandra",
      "file_extension": ".cql",
      "codemirror_mode": "sql"
    },
    "kernelspec": {
      "name": "cql",
      "language": "CQL",
      "display_name": "CQL"
    }
  },
  "nbformat": 4,
  "nbformat_minor": 0,
  "cells": [
    {
      "source": [
        "# Exercise 1: Trim down the index size on rank, clicks and metadata, by removing unnecessary TextField."
      ],
      "metadata": {},
      "cell_type": "markdown"
    },
    {
      "source": [
        "### Download the Solr schema for rank, clicks and metadata.\n",
        "### Which fields can be converted to strings?\n",
        "### Modify the schema of each core, and reload the core.\n",
        "### Reindex each core.\n",
        "### How big is the resulting index?\n",
        "### How long did the reindex take?"
      ],
      "metadata": {},
      "cell_type": "markdown"
    },
    {
      "source": [
        "# Exercise 2: Trim down the index size on rank, clicks and metadata, by avoiding index altogether."
      ],
      "metadata": {},
      "cell_type": "markdown"
    },
    {
      "source": [
        "### Download the Solr schema for rank, clicks and metadata.\n",
        "### Which fields can we avoid indexing all together?\n",
        "### Modify the schema of each core, and reload the core.\n",
        "### Reindex each core.\n",
        "### How big is the resulting index?\n",
        "### How long did the reindex take?\n"
      ],
      "metadata": {},
      "cell_type": "markdown"
    },
    {
      "source": [
        "# Exercise 3: Trim down the index size on rank, clicks and metadata, by disabling norm, term position and vector."
      ],
      "metadata": {},
      "cell_type": "markdown"
    },
    {
      "source": [
        "### Resource: ```http://<node0_public_ip>:8983/solr/amazon.metadata/admin/luke```"
      ],
      "metadata": {},
      "cell_type": "markdown"
    },
    {
      "source": [
        "### Download the Solr schema for rank, clicks and metadata.\n",
        "### Of the remaining text fields which require highlighting?\n",
        "### Disable positions and vectors on all text fields that don't require highlighting.\n",
        "### What is the benefit of disabling norms?\n",
        "### Of the remaining text fields which require norms? Disable norms for all fields that don't require it.\n",
        "### Reindex each core."
      ],
      "metadata": {},
      "cell_type": "markdown"
    }
  ]
}
