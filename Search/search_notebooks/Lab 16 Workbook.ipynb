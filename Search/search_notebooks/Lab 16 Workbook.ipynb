{
 "cells": [
  {
   "cell_type": "markdown",
   "metadata": {},
   "source": [
    "# Exercise 1: Trim down the index size on rank, clicks and metadata."
   ]
  },
  {
   "cell_type": "markdown",
   "metadata": {},
   "source": [
    "### Download the Solr schema for rank, clicks and metadata.\n",
    "### Which fields can be converted to strings?\n",
    "### Modify the schema of each core, and reload the core.\n",
    "### Reindex each core.\n",
    "### How big is the resulting index?\n",
    "### How long did the reindex take?"
   ]
  }
 ],
 "metadata": {
  "kernelspec": {
   "display_name": "CQL",
   "language": "CQL",
   "name": "cql"
  },
  "language_info": {
   "codemirror_mode": "sql",
   "file_extension": ".cql",
   "mimetype": "text/x-cassandra",
   "name": "CQL"
  }
 },
 "nbformat": 4,
 "nbformat_minor": 0
}
