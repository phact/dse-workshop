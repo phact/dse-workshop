{
 "cells": [
  {
   "cell_type": "markdown",
   "metadata": {},
   "source": [
    "# Exercise 0: Preparation (15 minutes)\n",
    "Each student should have received a notebook URL and a SSH private key in their email. Use this URL in your browser to bring up ```Lab 1 Workbook```. The IP address in the URL is the public IP address of the first node in your 3-node cluster (also called node0), and you should create a SSH terminal connection to node0 using ```root``` user and the private key. The SSH terminal and the browser notebook session should be everything you need for this bootcamp.\n",
    "\n",
    "### Note: Each student should setup github to track the changes in the notebook, to avoid losing any important updates.\n",
    "\n",
    "# Exercise 1: Installation DSE (30 minutes)\n",
    "\n",
    "Assuming you've got a cluster on AWS named \"Cluster 1\" with three nodes: node0, node1 and node2 (check /etc/hosts for all of their private and public IP addresses), node1 and node2 are both installed and configured already and running as DSE C\\* mode, now your mission, if you choose to accept it, is to install node0 from DSE debian repository, configure node0, bring up node0 to complete the 3-node cluster, and run the whole cluster in SearchAnalytics mode. You need to write down the apt-get command(s) used, list out what are the essential configuration files to edit after the deb packages are installed, and copy/paste the \"dsetool ring\" output to confirm that the cluster is indeed up and running as expected.\n",
    "\n",
    "Hints: Check the /etc/apt/sources.list.d/cassandra.list file on node1 or node2 for configuration on debian repository. You can also refer to the configuration files on node1 or node2 but keep in mind that they're currently running in DSE C\\* mode so you will need to switch that."
   ]
  },
  {
   "cell_type": "markdown",
   "metadata": {},
   "source": [
    "## Answer:"
   ]
  },
  {
   "cell_type": "raw",
   "metadata": {},
   "source": [
    "# on node0\n",
    "scp node1:/etc/apt/sources.list.d/cassandra.list /etc/apt/sources.list.d/\n",
    "apt-get update\n",
    "apt-get install dse-full=5.0.0-1\n",
    "\n",
    "vi /etc/dse/default (and set both SOLR_ENABLED and SPARK_ENABLED to 1)\n",
    "vi /etc/dse/cassandra/cassandra.yaml (and change cluster_name, \\*_address, seeds, file locations)\n",
    "\n",
    "/etc/init.d/dse start"
   ]
  },
  {
   "cell_type": "markdown",
   "metadata": {},
   "source": [
    "## Copy/paste expected Output from ```dsetool ring```:"
   ]
  },
  {
   "cell_type": "raw",
   "metadata": {},
   "source": [
    "Note: Ownership information does not include topology, please specify a keyspace.\n",
    "Address          DC           Rack         Workload         Graph  Status  State    Load             Owns                 Token                                        Health [0,1)\n",
    "                                                                                                                          -3074457345618258603\n",
    "172.31.36.148    DC1          rack1        SearchAnalytics  no     Up      Normal   7.23 GB          33.33%               3074457345618258602                          0.99\n",
    "172.31.40.215    DC1          rack1        SearchAnalytics  no     Up      Normal   7.27 GB          33.33%               -9223372036854775808                         0.99\n",
    "172.31.44.75     DC1          rack1        SearchAnalytics(JT) no     Up      Normal   7.19 GB          33.33%               -3074457345618258603                         0.99\n"
   ]
  },
  {
   "cell_type": "markdown",
   "metadata": {},
   "source": [
    "# Exercise 2: Load data (5 minutes)\n",
    "Go to ```$HOME/solr_exercises/l1e2``` directory, run \"```python populate_simple.py metadata_10k.json geodata.csv```\", then enter cqlsh and explore the data a bit using \"```describe table```\" and \"```select ... limit 5```\" commands."
   ]
  },
  {
   "cell_type": "markdown",
   "metadata": {},
   "source": [
    "# Exercise 3: Design CQL queries without Solr indexes (10 minutes)\n",
    "* Fetch a record by primary key using CQL\n",
    "* Design a CQL query table schema for finding items by category\n",
    "* Design a CQL query table schema for finding items by category, by sub-category.\n",
    "* Design a CQL query table schema that allows you to find all books that are the superset of \"Noir\", and \"Zombies\"."
   ]
  },
  {
   "cell_type": "markdown",
   "metadata": {},
   "source": [
    "# End of Lab 1\n",
    "### Time to go back to the slides to review a little bit on what you've learned from DS310 at DataStax Academy."
   ]
  },
  {
   "cell_type": "markdown",
   "metadata": {
    "collapsed": true
   },
   "source": [
    "## Remember to use File -> Close and Halt so this notebook no longer hogs resources"
   ]
  },
  {
   "cell_type": "code",
   "execution_count": null,
   "metadata": {
    "collapsed": true
   },
   "outputs": [],
   "source": []
  }
 ],
 "metadata": {
  "kernelspec": {
   "display_name": "CQL",
   "language": "CQL",
   "name": "cql"
  },
  "language_info": {
   "codemirror_mode": "sql",
   "file_extension": ".cql",
   "mimetype": "text/x-cassandra",
   "name": "CQL"
  }
 },
 "nbformat": 4,
 "nbformat_minor": 0
}
